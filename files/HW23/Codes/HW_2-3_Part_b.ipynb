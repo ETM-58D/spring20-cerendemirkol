{
 "cells": [
  {
   "cell_type": "markdown",
   "metadata": {},
   "source": [
    "# Homework 2-3 Part (b)\n",
    "Prepared with Ceren Demirkol, Okan Güven, Sevgican Varol"
   ]
  },
  {
   "cell_type": "code",
   "execution_count": 202,
   "metadata": {},
   "outputs": [],
   "source": [
    "require(data.table)\n",
    "set.seed(123)"
   ]
  },
  {
   "cell_type": "code",
   "execution_count": 205,
   "metadata": {},
   "outputs": [
    {
     "data": {
      "text/html": [
       "<table>\n",
       "<thead><tr><th scope=col>date</th><th scope=col>hour</th><th scope=col>value</th><th scope=col>lag_168</th><th scope=col>lag_48</th></tr></thead>\n",
       "<tbody>\n",
       "\t<tr><td>2016-01-08</td><td>0         </td><td>28602.02  </td><td>26277.24  </td><td>29189.27  </td></tr>\n",
       "\t<tr><td>2016-01-08</td><td>1         </td><td>27112.37  </td><td>24991.82  </td><td>27614.02  </td></tr>\n",
       "\t<tr><td>2016-01-08</td><td>2         </td><td>25975.34  </td><td>23532.61  </td><td>26578.97  </td></tr>\n",
       "\t<tr><td>2016-01-08</td><td>3         </td><td>25315.55  </td><td>22464.78  </td><td>25719.19  </td></tr>\n",
       "\t<tr><td>2016-01-08</td><td>4         </td><td>25128.15  </td><td>22002.91  </td><td>25864.63  </td></tr>\n",
       "\t<tr><td>2016-01-08</td><td>5         </td><td>25356.22  </td><td>21957.08  </td><td>25918.59  </td></tr>\n",
       "</tbody>\n",
       "</table>\n"
      ],
      "text/latex": [
       "\\begin{tabular}{r|lllll}\n",
       " date & hour & value & lag\\_168 & lag\\_48\\\\\n",
       "\\hline\n",
       "\t 2016-01-08 & 0          & 28602.02   & 26277.24   & 29189.27  \\\\\n",
       "\t 2016-01-08 & 1          & 27112.37   & 24991.82   & 27614.02  \\\\\n",
       "\t 2016-01-08 & 2          & 25975.34   & 23532.61   & 26578.97  \\\\\n",
       "\t 2016-01-08 & 3          & 25315.55   & 22464.78   & 25719.19  \\\\\n",
       "\t 2016-01-08 & 4          & 25128.15   & 22002.91   & 25864.63  \\\\\n",
       "\t 2016-01-08 & 5          & 25356.22   & 21957.08   & 25918.59  \\\\\n",
       "\\end{tabular}\n"
      ],
      "text/markdown": [
       "\n",
       "| date | hour | value | lag_168 | lag_48 |\n",
       "|---|---|---|---|---|\n",
       "| 2016-01-08 | 0          | 28602.02   | 26277.24   | 29189.27   |\n",
       "| 2016-01-08 | 1          | 27112.37   | 24991.82   | 27614.02   |\n",
       "| 2016-01-08 | 2          | 25975.34   | 23532.61   | 26578.97   |\n",
       "| 2016-01-08 | 3          | 25315.55   | 22464.78   | 25719.19   |\n",
       "| 2016-01-08 | 4          | 25128.15   | 22002.91   | 25864.63   |\n",
       "| 2016-01-08 | 5          | 25356.22   | 21957.08   | 25918.59   |\n",
       "\n"
      ],
      "text/plain": [
       "  date       hour value    lag_168  lag_48  \n",
       "1 2016-01-08 0    28602.02 26277.24 29189.27\n",
       "2 2016-01-08 1    27112.37 24991.82 27614.02\n",
       "3 2016-01-08 2    25975.34 23532.61 26578.97\n",
       "4 2016-01-08 3    25315.55 22464.78 25719.19\n",
       "5 2016-01-08 4    25128.15 22002.91 25864.63\n",
       "6 2016-01-08 5    25356.22 21957.08 25918.59"
      ]
     },
     "metadata": {},
     "output_type": "display_data"
    }
   ],
   "source": [
    "#Getting data\n",
    "consumption=fread(\"C:/Users/ceren.orhan/Desktop/ETM 58D/HW2-3/GercekZamanliTuketim-01012016-19052020.csv\")\n",
    "\n",
    "setnames(consumption,names(consumption)[3],'value')\n",
    "consumption[,date:=as.Date(Tarih,'%d.%m.%Y')]\n",
    "consumption[,hour:=as.numeric(substr(Saat,1,2))]\n",
    "consumption=consumption[,list(date,hour,value)]\n",
    "consumption[,value:=gsub(\".\", \"\",value, fixed = TRUE)]\n",
    "consumption[,value:=as.numeric(gsub(\",\", \".\",value, fixed = TRUE))]\n",
    "\n",
    "consumption[,lag_168:=shift(value,168)]\n",
    "consumption[,lag_48:=shift(value,48)]\n",
    "\n",
    "full_consumption=consumption[complete.cases(consumption)]\n",
    "head(full_consumption)"
   ]
  },
  {
   "cell_type": "code",
   "execution_count": 206,
   "metadata": {},
   "outputs": [],
   "source": [
    "# Filter consumption data in long format\n",
    "long_tr = full_consumption[date < '2020-03-01']\n",
    "long_te = full_consumption[date >= '2020-03-01']"
   ]
  },
  {
   "cell_type": "code",
   "execution_count": 207,
   "metadata": {},
   "outputs": [
    {
     "data": {
      "text/plain": [
       "\n",
       "Call:\n",
       "lm(formula = value ~ lag_48 + lag_168, data = long_tr)\n",
       "\n",
       "Residuals:\n",
       "     Min       1Q   Median       3Q      Max \n",
       "-16854.6   -977.3     -7.7    994.7  16055.2 \n",
       "\n",
       "Coefficients:\n",
       "             Estimate Std. Error t value Pr(>|t|)    \n",
       "(Intercept) 1.633e+03  9.207e+01   17.74   <2e-16 ***\n",
       "lag_48      3.111e-01  3.345e-03   92.99   <2e-16 ***\n",
       "lag_168     6.394e-01  3.341e-03  191.37   <2e-16 ***\n",
       "---\n",
       "Signif. codes:  0 '***' 0.001 '**' 0.01 '*' 0.05 '.' 0.1 ' ' 1\n",
       "\n",
       "Residual standard error: 2371 on 36309 degrees of freedom\n",
       "Multiple R-squared:  0.7676,\tAdjusted R-squared:  0.7676 \n",
       "F-statistic: 5.996e+04 on 2 and 36309 DF,  p-value: < 2.2e-16\n"
      ]
     },
     "metadata": {},
     "output_type": "display_data"
    }
   ],
   "source": [
    "# Fit a linear regression model and make a prediction\n",
    "long_fit = lm(value~lag_48+lag_168, long_tr)\n",
    "long_pred = predict(long_fit, long_te)\n",
    "summary(long_fit)"
   ]
  },
  {
   "cell_type": "code",
   "execution_count": 208,
   "metadata": {},
   "outputs": [],
   "source": [
    "# Create long format table & calculate APE and MAPE for lag_48 and lag_168\n",
    "long_predicted = long_te[, predicted_consumption := long_pred]\n",
    "long_predicted = long_predicted[, APE_LR:=(abs(long_predicted$value-long_predicted$predicted_consumption)/abs(long_predicted$value))*100]\n",
    "MAPE_LR = mean(long_predicted$APE_LR)\n"
   ]
  },
  {
   "cell_type": "code",
   "execution_count": 209,
   "metadata": {},
   "outputs": [
    {
     "data": {
      "text/plain": [
       "\n",
       "Call:\n",
       "lm(formula = value ~ lag_48 + lag_168, data = long_tr)\n",
       "\n",
       "Residuals:\n",
       "     Min       1Q   Median       3Q      Max \n",
       "-16854.6   -977.3     -7.7    994.7  16055.2 \n",
       "\n",
       "Coefficients:\n",
       "             Estimate Std. Error t value Pr(>|t|)    \n",
       "(Intercept) 1.633e+03  9.207e+01   17.74   <2e-16 ***\n",
       "lag_48      3.111e-01  3.345e-03   92.99   <2e-16 ***\n",
       "lag_168     6.394e-01  3.341e-03  191.37   <2e-16 ***\n",
       "---\n",
       "Signif. codes:  0 '***' 0.001 '**' 0.01 '*' 0.05 '.' 0.1 ' ' 1\n",
       "\n",
       "Residual standard error: 2371 on 36309 degrees of freedom\n",
       "Multiple R-squared:  0.7676,\tAdjusted R-squared:  0.7676 \n",
       "F-statistic: 5.996e+04 on 2 and 36309 DF,  p-value: < 2.2e-16\n"
      ]
     },
     "metadata": {},
     "output_type": "display_data"
    }
   ],
   "source": [
    "# Fit a linear regression model and make a prediction\n",
    "long_fit = lm(value~lag_48+lag_168, long_tr)\n",
    "long_pred = predict(long_fit, long_te)\n",
    "summary(long_fit)"
   ]
  },
  {
   "cell_type": "code",
   "execution_count": 210,
   "metadata": {},
   "outputs": [],
   "source": [
    "# Create long format table & calculate APE and MAPE for lag_48 and lag_168\n",
    "long_predicted = long_te[, predicted_consumption := long_pred]\n",
    "long_predicted = long_predicted[, APE_LR:=(abs(long_predicted$value-long_predicted$predicted_consumption)/abs(long_predicted$value))*100]\n",
    "MAPE_LR = mean(long_predicted$APE_LR)"
   ]
  },
  {
   "cell_type": "code",
   "execution_count": 211,
   "metadata": {},
   "outputs": [
    {
     "data": {
      "text/plain": [
       "    Min.  1st Qu.   Median     Mean  3rd Qu.     Max. \n",
       " 0.01148  1.83166  4.03732  5.69813  7.61776 41.19968 "
      ]
     },
     "metadata": {},
     "output_type": "display_data"
    },
    {
     "data": {
      "text/html": [
       "<table>\n",
       "<thead><tr><th></th><th scope=col>quantile_lag_168</th><th scope=col>quantile_lag_48</th><th scope=col>quantile_lin_reg</th></tr></thead>\n",
       "<tbody>\n",
       "\t<tr><th scope=row>10%</th><td> 0.7727876</td><td> 0.7104752</td><td> 0.7542483</td></tr>\n",
       "\t<tr><th scope=row>25%</th><td> 2.0133265</td><td> 1.8206243</td><td> 1.8316559</td></tr>\n",
       "\t<tr><th scope=row>50%</th><td> 4.5708979</td><td> 6.1576726</td><td> 4.0373182</td></tr>\n",
       "\t<tr><th scope=row>75%</th><td> 8.4988936</td><td>12.7994874</td><td> 7.6177555</td></tr>\n",
       "\t<tr><th scope=row>90%</th><td>12.6391592</td><td>24.9016425</td><td>12.5462119</td></tr>\n",
       "</tbody>\n",
       "</table>\n"
      ],
      "text/latex": [
       "\\begin{tabular}{r|lll}\n",
       "  & quantile\\_lag\\_168 & quantile\\_lag\\_48 & quantile\\_lin\\_reg\\\\\n",
       "\\hline\n",
       "\t10\\% &  0.7727876 &  0.7104752 &  0.7542483\\\\\n",
       "\t25\\% &  2.0133265 &  1.8206243 &  1.8316559\\\\\n",
       "\t50\\% &  4.5708979 &  6.1576726 &  4.0373182\\\\\n",
       "\t75\\% &  8.4988936 & 12.7994874 &  7.6177555\\\\\n",
       "\t90\\% & 12.6391592 & 24.9016425 & 12.5462119\\\\\n",
       "\\end{tabular}\n"
      ],
      "text/markdown": [
       "\n",
       "| <!--/--> | quantile_lag_168 | quantile_lag_48 | quantile_lin_reg |\n",
       "|---|---|---|---|\n",
       "| 10% |  0.7727876 |  0.7104752 |  0.7542483 |\n",
       "| 25% |  2.0133265 |  1.8206243 |  1.8316559 |\n",
       "| 50% |  4.5708979 |  6.1576726 |  4.0373182 |\n",
       "| 75% |  8.4988936 | 12.7994874 |  7.6177555 |\n",
       "| 90% | 12.6391592 | 24.9016425 | 12.5462119 |\n",
       "\n"
      ],
      "text/plain": [
       "    quantile_lag_168 quantile_lag_48 quantile_lin_reg\n",
       "10%  0.7727876        0.7104752       0.7542483      \n",
       "25%  2.0133265        1.8206243       1.8316559      \n",
       "50%  4.5708979        6.1576726       4.0373182      \n",
       "75%  8.4988936       12.7994874       7.6177555      \n",
       "90% 12.6391592       24.9016425      12.5462119      "
      ]
     },
     "metadata": {},
     "output_type": "display_data"
    },
    {
     "data": {
      "image/png": "[encoded data removed]",
      "text/plain": [
       "Plot with title \"Absolute Percentage Error\""
      ]
     },
     "metadata": {},
     "output_type": "display_data"
    }
   ],
   "source": [
    "full_consumption[,ape_168:=abs(full_consumption$value-full_consumption$lag_168)/full_consumption$value*100] #absolute percentage error\n",
    "full_consumption[,ape_48:=abs(full_consumption$value-full_consumption$lag_48)/full_consumption$value*100]\n",
    "\n",
    "boxplot(full_consumption$ape_168,full_consumption$ape_48,long_predicted$APE_LR,names=c(\"Lag 168\",\"Lag 48\",\"Linear Regression\"))\n",
    "title(\"Absolute Percentage Error\")\n",
    "\n",
    "summary(long_predicted$APE_LR)\n",
    "\n",
    "quantile_lag_168=quantile(compare$ape_168, probs = c(0.1, 0.25, 0.5, 0.75, 0.9))\n",
    "quantile_lag_48=quantile(compare$ape_48, probs = c(0.1, 0.25, 0.5, 0.75, 0.9))\n",
    "quantile_lin_reg=quantile(long_predicted$APE_LR, probs = c(0.1, 0.25, 0.5, 0.75, 0.9))\n",
    "q_all=cbind(quantile_lag_168,quantile_lag_48,quantile_lin_reg)\n",
    "q_all"
   ]
  },
  {
   "cell_type": "markdown",
   "metadata": {},
   "source": [
    "# Comments\n",
    "Comparing the boxplot of the linear regression model with lag forecasting, we see that the regression boxplot is more similar to the lag_168 forecast.\n",
    "\n",
    "The main difference is that the second half of the interquartile range (Q3-Q2) is wider (has little more variance) and has slightly more outliers.\n",
    "\n",
    "We can conclude that the consumption of previous week's same time is pretty much as good as using linear regression with 48 and 168 hour lags.\n"
   ]
  },
  {
   "cell_type": "code",
   "execution_count": null,
   "metadata": {},
   "outputs": [],
   "source": []
  }
 ],
 "metadata": {
  "kernelspec": {
   "display_name": "R",
   "language": "R",
   "name": "ir"
  },
  "language_info": {
   "codemirror_mode": "r",
   "file_extension": ".r",
   "mimetype": "text/x-r-source",
   "name": "R",
   "pygments_lexer": "r",
   "version": "3.6.1"
  }
 },
 "nbformat": 4,
 "nbformat_minor": 4
}
