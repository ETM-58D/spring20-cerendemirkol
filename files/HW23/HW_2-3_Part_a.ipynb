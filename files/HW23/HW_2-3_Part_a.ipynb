{
 "cells": [
  {
   "cell_type": "markdown",
   "metadata": {},
   "source": [
    "# Homework 2-3 Part (a)\n",
    "Prepared by Ceren Demirkol, Okan Güven, Sevgican Varol"
   ]
  },
  {
   "cell_type": "code",
   "execution_count": 7,
   "metadata": {},
   "outputs": [],
   "source": [
    "require(data.table)\n",
    "set.seed(123)"
   ]
  },
  {
   "cell_type": "code",
   "execution_count": 8,
   "metadata": {},
   "outputs": [
    {
     "data": {
      "text/html": [
       "<table>\n",
       "<thead><tr><th scope=col>date</th><th scope=col>hour</th><th scope=col>value</th></tr></thead>\n",
       "<tbody>\n",
       "\t<tr><td>2016-01-01</td><td>0         </td><td>26277.24  </td></tr>\n",
       "\t<tr><td>2016-01-01</td><td>1         </td><td>24991.82  </td></tr>\n",
       "\t<tr><td>2016-01-01</td><td>2         </td><td>23532.61  </td></tr>\n",
       "\t<tr><td>2016-01-01</td><td>3         </td><td>22464.78  </td></tr>\n",
       "\t<tr><td>2016-01-01</td><td>4         </td><td>22002.91  </td></tr>\n",
       "\t<tr><td>2016-01-01</td><td>5         </td><td>21957.08  </td></tr>\n",
       "</tbody>\n",
       "</table>\n"
      ],
      "text/latex": [
       "\\begin{tabular}{r|lll}\n",
       " date & hour & value\\\\\n",
       "\\hline\n",
       "\t 2016-01-01 & 0          & 26277.24  \\\\\n",
       "\t 2016-01-01 & 1          & 24991.82  \\\\\n",
       "\t 2016-01-01 & 2          & 23532.61  \\\\\n",
       "\t 2016-01-01 & 3          & 22464.78  \\\\\n",
       "\t 2016-01-01 & 4          & 22002.91  \\\\\n",
       "\t 2016-01-01 & 5          & 21957.08  \\\\\n",
       "\\end{tabular}\n"
      ],
      "text/markdown": [
       "\n",
       "| date | hour | value |\n",
       "|---|---|---|\n",
       "| 2016-01-01 | 0          | 26277.24   |\n",
       "| 2016-01-01 | 1          | 24991.82   |\n",
       "| 2016-01-01 | 2          | 23532.61   |\n",
       "| 2016-01-01 | 3          | 22464.78   |\n",
       "| 2016-01-01 | 4          | 22002.91   |\n",
       "| 2016-01-01 | 5          | 21957.08   |\n",
       "\n"
      ],
      "text/plain": [
       "  date       hour value   \n",
       "1 2016-01-01 0    26277.24\n",
       "2 2016-01-01 1    24991.82\n",
       "3 2016-01-01 2    23532.61\n",
       "4 2016-01-01 3    22464.78\n",
       "5 2016-01-01 4    22002.91\n",
       "6 2016-01-01 5    21957.08"
      ]
     },
     "metadata": {},
     "output_type": "display_data"
    }
   ],
   "source": [
    "consumption=fread(\"C:/Users/ceren.orhan/Desktop/ETM 58D/HW2-3/GercekZamanliTuketim-01012016-19052020.csv\")\n",
    "\n",
    "#Format manipulation\n",
    "setnames(consumption,names(consumption)[3],'value')\n",
    "consumption[,date:=as.Date(Tarih,'%d.%m.%Y')]\n",
    "consumption[,hour:=as.numeric(substr(Saat,1,2))]\n",
    "consumption=consumption[,list(date,hour,value)]\n",
    "consumption[,value:=gsub(\".\", \"\",value, fixed = TRUE)]\n",
    "consumption[,value:=as.numeric(gsub(\",\", \".\",value, fixed = TRUE))]\n",
    "\n",
    "head(consumption)"
   ]
  },
  {
   "cell_type": "markdown",
   "metadata": {},
   "source": [
    "Data has shifted to create 1 wee kand 2 days of lag. Then NA rows removed"
   ]
  },
  {
   "cell_type": "code",
   "execution_count": 9,
   "metadata": {},
   "outputs": [
    {
     "data": {
      "text/html": [
       "<table>\n",
       "<thead><tr><th scope=col>date</th><th scope=col>hour</th><th scope=col>value</th><th scope=col>lag_168</th><th scope=col>lag_48</th></tr></thead>\n",
       "<tbody>\n",
       "\t<tr><td>2016-01-08</td><td>0         </td><td>28602.02  </td><td>26277.24  </td><td>29189.27  </td></tr>\n",
       "\t<tr><td>2016-01-08</td><td>1         </td><td>27112.37  </td><td>24991.82  </td><td>27614.02  </td></tr>\n",
       "\t<tr><td>2016-01-08</td><td>2         </td><td>25975.34  </td><td>23532.61  </td><td>26578.97  </td></tr>\n",
       "\t<tr><td>2016-01-08</td><td>3         </td><td>25315.55  </td><td>22464.78  </td><td>25719.19  </td></tr>\n",
       "\t<tr><td>2016-01-08</td><td>4         </td><td>25128.15  </td><td>22002.91  </td><td>25864.63  </td></tr>\n",
       "\t<tr><td>2016-01-08</td><td>5         </td><td>25356.22  </td><td>21957.08  </td><td>25918.59  </td></tr>\n",
       "</tbody>\n",
       "</table>\n"
      ],
      "text/latex": [
       "\\begin{tabular}{r|lllll}\n",
       " date & hour & value & lag\\_168 & lag\\_48\\\\\n",
       "\\hline\n",
       "\t 2016-01-08 & 0          & 28602.02   & 26277.24   & 29189.27  \\\\\n",
       "\t 2016-01-08 & 1          & 27112.37   & 24991.82   & 27614.02  \\\\\n",
       "\t 2016-01-08 & 2          & 25975.34   & 23532.61   & 26578.97  \\\\\n",
       "\t 2016-01-08 & 3          & 25315.55   & 22464.78   & 25719.19  \\\\\n",
       "\t 2016-01-08 & 4          & 25128.15   & 22002.91   & 25864.63  \\\\\n",
       "\t 2016-01-08 & 5          & 25356.22   & 21957.08   & 25918.59  \\\\\n",
       "\\end{tabular}\n"
      ],
      "text/markdown": [
       "\n",
       "| date | hour | value | lag_168 | lag_48 |\n",
       "|---|---|---|---|---|\n",
       "| 2016-01-08 | 0          | 28602.02   | 26277.24   | 29189.27   |\n",
       "| 2016-01-08 | 1          | 27112.37   | 24991.82   | 27614.02   |\n",
       "| 2016-01-08 | 2          | 25975.34   | 23532.61   | 26578.97   |\n",
       "| 2016-01-08 | 3          | 25315.55   | 22464.78   | 25719.19   |\n",
       "| 2016-01-08 | 4          | 25128.15   | 22002.91   | 25864.63   |\n",
       "| 2016-01-08 | 5          | 25356.22   | 21957.08   | 25918.59   |\n",
       "\n"
      ],
      "text/plain": [
       "  date       hour value    lag_168  lag_48  \n",
       "1 2016-01-08 0    28602.02 26277.24 29189.27\n",
       "2 2016-01-08 1    27112.37 24991.82 27614.02\n",
       "3 2016-01-08 2    25975.34 23532.61 26578.97\n",
       "4 2016-01-08 3    25315.55 22464.78 25719.19\n",
       "5 2016-01-08 4    25128.15 22002.91 25864.63\n",
       "6 2016-01-08 5    25356.22 21957.08 25918.59"
      ]
     },
     "metadata": {},
     "output_type": "display_data"
    }
   ],
   "source": [
    "consumption[,lag_168:=shift(value,168)]\n",
    "consumption[,lag_48:=shift(value,48)]\n",
    "\n",
    "full_data=consumption[complete.cases(consumption)]\n",
    "head(full_data)"
   ]
  },
  {
   "cell_type": "markdown",
   "metadata": {},
   "source": [
    "Absolute percentage error valuesa re calculated."
   ]
  },
  {
   "cell_type": "code",
   "execution_count": 10,
   "metadata": {},
   "outputs": [
    {
     "data": {
      "text/html": [
       "<table>\n",
       "<thead><tr><th scope=col>date</th><th scope=col>hour</th><th scope=col>value</th><th scope=col>lag_168</th><th scope=col>lag_48</th><th scope=col>ape_168</th><th scope=col>ape_48</th></tr></thead>\n",
       "<tbody>\n",
       "\t<tr><td>2020-05-19</td><td>18        </td><td>30433.07  </td><td>31661.53  </td><td>30360.19  </td><td>4.036596  </td><td>0.2394763 </td></tr>\n",
       "\t<tr><td>2020-05-19</td><td>19        </td><td>31670.85  </td><td>32431.97  </td><td>31802.96  </td><td>2.403219  </td><td>0.4171344 </td></tr>\n",
       "\t<tr><td>2020-05-19</td><td>20        </td><td>31370.75  </td><td>31893.32  </td><td>31481.96  </td><td>1.665787  </td><td>0.3545022 </td></tr>\n",
       "\t<tr><td>2020-05-19</td><td>21        </td><td>31577.82  </td><td>32262.92  </td><td>31349.23  </td><td>2.169561  </td><td>0.7238942 </td></tr>\n",
       "\t<tr><td>2020-05-19</td><td>22        </td><td>31040.66  </td><td>31651.02  </td><td>30657.57  </td><td>1.966324  </td><td>1.2341555 </td></tr>\n",
       "\t<tr><td>2020-05-19</td><td>23        </td><td>30283.87  </td><td>30641.29  </td><td>29582.26  </td><td>1.180232  </td><td>2.3167779 </td></tr>\n",
       "</tbody>\n",
       "</table>\n"
      ],
      "text/latex": [
       "\\begin{tabular}{r|lllllll}\n",
       " date & hour & value & lag\\_168 & lag\\_48 & ape\\_168 & ape\\_48\\\\\n",
       "\\hline\n",
       "\t 2020-05-19 & 18         & 30433.07   & 31661.53   & 30360.19   & 4.036596   & 0.2394763 \\\\\n",
       "\t 2020-05-19 & 19         & 31670.85   & 32431.97   & 31802.96   & 2.403219   & 0.4171344 \\\\\n",
       "\t 2020-05-19 & 20         & 31370.75   & 31893.32   & 31481.96   & 1.665787   & 0.3545022 \\\\\n",
       "\t 2020-05-19 & 21         & 31577.82   & 32262.92   & 31349.23   & 2.169561   & 0.7238942 \\\\\n",
       "\t 2020-05-19 & 22         & 31040.66   & 31651.02   & 30657.57   & 1.966324   & 1.2341555 \\\\\n",
       "\t 2020-05-19 & 23         & 30283.87   & 30641.29   & 29582.26   & 1.180232   & 2.3167779 \\\\\n",
       "\\end{tabular}\n"
      ],
      "text/markdown": [
       "\n",
       "| date | hour | value | lag_168 | lag_48 | ape_168 | ape_48 |\n",
       "|---|---|---|---|---|---|---|\n",
       "| 2020-05-19 | 18         | 30433.07   | 31661.53   | 30360.19   | 4.036596   | 0.2394763  |\n",
       "| 2020-05-19 | 19         | 31670.85   | 32431.97   | 31802.96   | 2.403219   | 0.4171344  |\n",
       "| 2020-05-19 | 20         | 31370.75   | 31893.32   | 31481.96   | 1.665787   | 0.3545022  |\n",
       "| 2020-05-19 | 21         | 31577.82   | 32262.92   | 31349.23   | 2.169561   | 0.7238942  |\n",
       "| 2020-05-19 | 22         | 31040.66   | 31651.02   | 30657.57   | 1.966324   | 1.2341555  |\n",
       "| 2020-05-19 | 23         | 30283.87   | 30641.29   | 29582.26   | 1.180232   | 2.3167779  |\n",
       "\n"
      ],
      "text/plain": [
       "  date       hour value    lag_168  lag_48   ape_168  ape_48   \n",
       "1 2020-05-19 18   30433.07 31661.53 30360.19 4.036596 0.2394763\n",
       "2 2020-05-19 19   31670.85 32431.97 31802.96 2.403219 0.4171344\n",
       "3 2020-05-19 20   31370.75 31893.32 31481.96 1.665787 0.3545022\n",
       "4 2020-05-19 21   31577.82 32262.92 31349.23 2.169561 0.7238942\n",
       "5 2020-05-19 22   31040.66 31651.02 30657.57 1.966324 1.2341555\n",
       "6 2020-05-19 23   30283.87 30641.29 29582.26 1.180232 2.3167779"
      ]
     },
     "metadata": {},
     "output_type": "display_data"
    }
   ],
   "source": [
    "full_data[,ape_168:=abs(full_data$value-full_data$lag_168)/full_data$value*100] #absolute percentage error\n",
    "full_data[,ape_48:=abs(full_data$value-full_data$lag_48)/full_data$value*100]\n",
    "tail(full_data)"
   ]
  },
  {
   "cell_type": "code",
   "execution_count": 11,
   "metadata": {
    "scrolled": true
   },
   "outputs": [
    {
     "data": {
      "image/png": "[encoded data removed]",
      "text/plain": [
       "Plot with title \"Absolute Percentage Error\""
      ]
     },
     "metadata": {},
     "output_type": "display_data"
    }
   ],
   "source": [
    "boxplot(full_data$ape_168,full_data$ape_48,names=c(\"Lag 168\",\"Lag 48\"))\n",
    "title(\"Absolute Percentage Error\")"
   ]
  },
  {
   "cell_type": "code",
   "execution_count": 13,
   "metadata": {},
   "outputs": [
    {
     "data": {
      "text/plain": [
       "      date                 hour           value          lag_168     \n",
       " Min.   :2016-01-08   Min.   : 0.00   Min.   :17237   Min.   :17237  \n",
       " 1st Qu.:2017-02-10   1st Qu.: 5.75   1st Qu.:28696   1st Qu.:28708  \n",
       " Median :2018-03-15   Median :11.50   Median :32806   Median :32829  \n",
       " Mean   :2018-03-14   Mean   :11.50   Mean   :32624   Mean   :32635  \n",
       " 3rd Qu.:2019-04-17   3rd Qu.:17.25   3rd Qu.:36166   3rd Qu.:36180  \n",
       " Max.   :2020-05-19   Max.   :23.00   Max.   :47062   Max.   :47062  \n",
       "     lag_48         ape_168             ape_48        \n",
       " Min.   :17237   Min.   : 0.00006   Min.   : 0.00018  \n",
       " 1st Qu.:28703   1st Qu.: 1.17450   1st Qu.: 1.70450  \n",
       " Median :32816   Median : 2.70960   Median : 5.36646  \n",
       " Mean   :32630   Mean   : 4.93208   Mean   : 7.97246  \n",
       " 3rd Qu.:36172   3rd Qu.: 5.29220   3rd Qu.:10.56880  \n",
       " Max.   :47062   Max.   :87.97862   Max.   :76.31046  "
      ]
     },
     "metadata": {},
     "output_type": "display_data"
    },
    {
     "data": {
      "text/html": [
       "<table>\n",
       "<thead><tr><th></th><th scope=col>quantile_lag_168</th><th scope=col>quantile_lag_48</th></tr></thead>\n",
       "<tbody>\n",
       "\t<tr><th scope=row>10%</th><td> 0.4602685</td><td> 0.6027448</td></tr>\n",
       "\t<tr><th scope=row>25%</th><td> 1.1745041</td><td> 1.7044996</td></tr>\n",
       "\t<tr><th scope=row>50%</th><td> 2.7095962</td><td> 5.3664640</td></tr>\n",
       "\t<tr><th scope=row>75%</th><td> 5.2921986</td><td>10.5688043</td></tr>\n",
       "\t<tr><th scope=row>90%</th><td>10.1025403</td><td>20.8808070</td></tr>\n",
       "</tbody>\n",
       "</table>\n"
      ],
      "text/latex": [
       "\\begin{tabular}{r|ll}\n",
       "  & quantile\\_lag\\_168 & quantile\\_lag\\_48\\\\\n",
       "\\hline\n",
       "\t10\\% &  0.4602685 &  0.6027448\\\\\n",
       "\t25\\% &  1.1745041 &  1.7044996\\\\\n",
       "\t50\\% &  2.7095962 &  5.3664640\\\\\n",
       "\t75\\% &  5.2921986 & 10.5688043\\\\\n",
       "\t90\\% & 10.1025403 & 20.8808070\\\\\n",
       "\\end{tabular}\n"
      ],
      "text/markdown": [
       "\n",
       "| <!--/--> | quantile_lag_168 | quantile_lag_48 |\n",
       "|---|---|---|\n",
       "| 10% |  0.4602685 |  0.6027448 |\n",
       "| 25% |  1.1745041 |  1.7044996 |\n",
       "| 50% |  2.7095962 |  5.3664640 |\n",
       "| 75% |  5.2921986 | 10.5688043 |\n",
       "| 90% | 10.1025403 | 20.8808070 |\n",
       "\n"
      ],
      "text/plain": [
       "    quantile_lag_168 quantile_lag_48\n",
       "10%  0.4602685        0.6027448     \n",
       "25%  1.1745041        1.7044996     \n",
       "50%  2.7095962        5.3664640     \n",
       "75%  5.2921986       10.5688043     \n",
       "90% 10.1025403       20.8808070     "
      ]
     },
     "metadata": {},
     "output_type": "display_data"
    }
   ],
   "source": [
    "summary(full_data)\n",
    "\n",
    "quantile_lag_168=quantile(full_data$ape_168, probs = c(0.1, 0.25, 0.5, 0.75, 0.9))\n",
    "quantile_lag_48=quantile(full_data$ape_48, probs = c(0.1, 0.25, 0.5, 0.75, 0.9))\n",
    "q_all=cbind(quantile_lag_168,quantile_lag_48)\n",
    "q_all"
   ]
  },
  {
   "cell_type": "markdown",
   "metadata": {},
   "source": [
    "# Comments\n",
    "\n",
    "From the boxplot we can say that predicting consumptions from last week instead of 2 days, give better result since box dimentison of Lag 168 is smaller. That means it has smaller standard deviation and less median error.\n",
    "\n",
    "When we comment on summary, again we see that predicting consumption with last week's data is more accurate than other. Although, there are still too many outliers which might be reasonable. Religios holidays or special days like christmast will increase the electricity consumption and we can not easliy predict consumpiton by looking last week's data."
   ]
  }
 ],
 "metadata": {
  "kernelspec": {
   "display_name": "R",
   "language": "R",
   "name": "ir"
  },
  "language_info": {
   "codemirror_mode": "r",
   "file_extension": ".r",
   "mimetype": "text/x-r-source",
   "name": "R",
   "pygments_lexer": "r",
   "version": "3.6.1"
  }
 },
 "nbformat": 4,
 "nbformat_minor": 4
}
